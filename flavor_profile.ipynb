{
 "cells": [
  {
   "cell_type": "code",
   "execution_count": 1,
   "metadata": {},
   "outputs": [],
   "source": [
    "# DS Modules\n",
    "import numpy as np\n",
    "import pandas as pd\n",
    "\n",
    "# Visualization modules\n",
    "import matplotlib.pyplot as plt\n",
    "import seaborn as sns\n",
    "\n",
    "# Helpers\n",
    "import helpers\n",
    "import acquire"
   ]
  },
  {
   "cell_type": "code",
   "execution_count": 2,
   "metadata": {},
   "outputs": [],
   "source": [
    "df = acquire.both_get_data()\n",
    "df.columns = [helpers.util.make_valid_py_id(col) for col in df]\n",
    "df = df.reset_index().drop(columns='index')\n",
    "train, test , validate = helpers.prep.train_test_validate_split(df)"
   ]
  },
  {
   "cell_type": "code",
   "execution_count": 16,
   "metadata": {},
   "outputs": [],
   "source": [
    "class FlavorProfile:\n",
    "\n",
    "    def __init__(self, **kwargs):\n",
    "        defaultKwargs = {\n",
    "            'features' : ['volatile_acidity','chlorides','residual_sugar','alcohol'],\n",
    "            'random_state': 8,\n",
    "            'k' : 4\n",
    "        }\n",
    "        kwargs = { **defaultKwargs, **kwargs }\n",
    "        \n",
    "        self.features = kwargs['features']\n",
    "        self.random_state = kwargs['random_state']\n",
    "        self.n_clusters = kwargs['k']\n",
    "    \n",
    "    def fit(self, train):\n",
    "        self.train = train\n",
    "        self.fit_scaler()\n",
    "        self.fit_clusterer()\n",
    "        return self\n",
    "\n",
    "    def fit_scaler(self):\n",
    "        self.scaler = helpers.prep.train_scaler(self.train[self.features])\n",
    "        self.scaled_train = self.train.copy()\n",
    "        self.scaled_train[self.features] = self.scaler.transform(self.train[self.features])\n",
    "\n",
    "    def fit_clusterer(self):\n",
    "        self.clusterer = helpers.cluster.build_kmeans_clusterer(df=self.scaled_train, cols=self.features, k=self.n_clusters, random_state=self.random_state)\n",
    "\n",
    "    def predict(self, df):\n",
    "        temp_df = df.copy()\n",
    "        temp_df[self.features] = self.scaler.transform(temp_df[self.features])\n",
    "        y = self.clusterer.predict(temp_df[self.features])\n",
    "        return y\n"
   ]
  },
  {
   "cell_type": "code",
   "execution_count": 17,
   "metadata": {},
   "outputs": [],
   "source": [
    "from model import FlavorProfile\n",
    "\n",
    "flavor = FlavorProfile()\n",
    "flavor.fit(train)\n",
    "\n",
    "train['flavor_profile'] = flavor.predict(train)\n",
    "test['flavor_profile'] = flavor.predict(test)\n",
    "validate['flavor_profile'] = flavor.predict(validate)"
   ]
  },
  {
   "cell_type": "code",
   "execution_count": 20,
   "metadata": {},
   "outputs": [
    {
     "data": {
      "text/plain": [
       "[Text(0.5, 1.0, 'both')]"
      ]
     },
     "execution_count": 20,
     "metadata": {},
     "output_type": "execute_result"
    },
    {
     "data": {
      "image/png": "[encoded data removed]",
      "text/plain": [
       "<Figure size 432x288 with 1 Axes>"
      ]
     },
     "metadata": {
      "needs_background": "light"
     },
     "output_type": "display_data"
    }
   ],
   "source": [
    "sns.barplot(data= train, x='flavor_profile', y='quality').set(title='both')"
   ]
  },
  {
   "cell_type": "code",
   "execution_count": 1,
   "metadata": {},
   "outputs": [],
   "source": [
    "# DS Modules\n",
    "import numpy as np\n",
    "import pandas as pd\n",
    "\n",
    "# Visualization modules\n",
    "import matplotlib.pyplot as plt\n",
    "import seaborn as sns\n",
    "\n",
    "# Helpers\n",
    "import helpers\n",
    "import acquire\n",
    "\n",
    "df = acquire.both_get_data()\n",
    "df.columns = [helpers.util.make_valid_py_id(col) for col in df]\n",
    "df = df.reset_index().drop(columns='index')\n",
    "train, test , validate = helpers.prep.train_test_validate_split(df)\n",
    "\n",
    "from model import FlavorProfile\n",
    "\n",
    "flavor = FlavorProfile()\n",
    "flavor.fit(train)\n",
    "\n",
    "train['flavor_profile'] = flavor.predict(train)\n",
    "test['flavor_profile'] = flavor.predict(test)\n",
    "validate['flavor_profile'] = flavor.predict(validate)"
   ]
  },
  {
   "cell_type": "code",
   "execution_count": 2,
   "metadata": {},
   "outputs": [
    {
     "data": {
      "text/plain": [
       "[Text(0.5, 1.0, 'both')]"
      ]
     },
     "execution_count": 2,
     "metadata": {},
     "output_type": "execute_result"
    },
    {
     "data": {
      "image/png": "[encoded data removed]",
      "text/plain": [
       "<Figure size 432x288 with 1 Axes>"
      ]
     },
     "metadata": {
      "needs_background": "light"
     },
     "output_type": "display_data"
    }
   ],
   "source": [
    "sns.barplot(data= train, x='flavor_profile', y='quality').set(title='both')"
   ]
  }
 ],
 "metadata": {
  "kernelspec": {
   "display_name": "Python 3.10.7 64-bit",
   "language": "python",
   "name": "python3"
  },
  "language_info": {
   "codemirror_mode": {
    "name": "ipython",
    "version": 3
   },
   "file_extension": ".py",
   "mimetype": "text/x-python",
   "name": "python",
   "nbconvert_exporter": "python",
   "pygments_lexer": "ipython3",
   "version": "3.10.7"
  },
  "orig_nbformat": 4,
  "vscode": {
   "interpreter": {
    "hash": "37b4e1d782780d9803a775659fc8b81e9cc61a0899d4564192c1f7cc3c556e45"
   }
  }
 },
 "nbformat": 4,
 "nbformat_minor": 2
}
