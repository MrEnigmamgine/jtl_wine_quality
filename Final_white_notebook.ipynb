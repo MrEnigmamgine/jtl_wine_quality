{
 "cells": [
  {
   "cell_type": "markdown",
   "id": "c1bcdb4a",
   "metadata": {},
   "source": [
    "## White Wine From the Vihno Verde Region in Portugal - Predicting the Quality Score Using Machine Learning"
   ]
  },
  {
   "cell_type": "markdown",
   "id": "0447d0ca",
   "metadata": {},
   "source": [
    "### Project Description:\n",
    "Our project examines 11 quantitative features of red/white wine data sets from the Vihno Verde region of Portugal. Using the physicochemical features/breakdown of the wine, we built a predictive machine learning model with a target variable of quality score. Our insights, discoveries, and modeling offer a distinct advantage to wine producers/stakeholders/distributors by using a wine's chemical composition and predicting its associated quality score."
   ]
  },
  {
   "cell_type": "markdown",
   "id": "1a42f839",
   "metadata": {},
   "source": [
    "#### Project Planning/Outline:\n",
    "1. Intro\n",
    "2. Acquire\n",
    "3. Prepare/Wrangle\n",
    "4. Split\n",
    "5. Exploration Highlights\n",
    "6. Stats Tests?\n",
    "7. Scale\n",
    "8. Clusters\n",
    "9. Modeling\n",
    "10. Conclusion\n",
    "11. Next Steps"
   ]
  },
  {
   "cell_type": "markdown",
   "id": "96fe605d",
   "metadata": {},
   "source": [
    "#### Target Variable aka Y_variable = 'Quality'\n",
    "\n",
    "Quality is the median score given to wine based on a 1-10 numerical scale submitted by at least three wine experts"
   ]
  },
  {
   "cell_type": "markdown",
   "id": "8966cfb5",
   "metadata": {},
   "source": [
    "---\n",
    "## About the data\n",
    "Our project makes use of the [Wine Quality Data Set](https://archive.ics.uci.edu/ml/datasets/wine+quality) from the [UCI Machine Learning Repository](https://archive.ics.uci.edu/ml/index.php), which is a labeled dataset consisting of 6500 observations.  Each observation represents a red or white Vihno Verde whine from the Portugal region and includes the physicochemical composition of the wine as well as a labeled `quality` score indicating wine expert's opinion of the wine on a scale of 1 to 10.\n",
    "\n",
    "### Target variable\n",
    "**`quality`** - Quality score is the median score given to associated wine based off the rankings of three industry experts\n",
    "\n",
    "### Data Dictionary\n",
    "| **Variable Name** | **Explanation** | **Unit** | **Values** |\n",
    "| :---: | :---: | :---: | :---: |\n",
    "| Fixed Acidity |  Acids that do not evaporate readily (Tartaric Acid) | g/L | Float |\n",
    "| Volatile Acidity | Acids evaporate readily (Acetic acid) | g/L | Float |\n",
    "| Citric Acid | level of Citric acid | g/L | Float |\n",
    "| Residual Sugar | Sugar that remains after fermenation | g/L | Float |\n",
    "| Chlorides | Sodium Chloride content | g/L | Float |\n",
    "| Free Sulfur Dioxide | Levels of free, gaseous sulfur dioxide | mg/L | Float |\n",
    "| Total Sulfur Dioxide | Total Level of Sulfur Dioxide | mg/L | Float |\n",
    "| Density | Density in relation to water | g/cm^3 | Float |\n",
    "| pH| Acidity of the wine | 1-14 | Float |\n",
    "| Sulphates | Level of potassium sulfate | g/L | Float |\n",
    "| Alcohol | Alcohol by Volume per wine | ABV% | Float |\n",
    "| Quality |  The median value of at least 3 independent evualations by wine experts| 1-10 | Integer |\n",
    "\n",
    "### Data Challenges\n",
    "\n",
    "\n",
    "The dataset used was a very clean dataset. For the most part, its normally distributed, I.E. on average you get an average wine.  There were zero null values and none of the values could be identified as obviously erroneous.  \n",
    "\n",
    "However, we discovered 1,177 duplicate records which we dropped leaving us with 5320 observations remaining after cleaning, 1359 of which are red wines and 3961 of which are white wines.\n"
   ]
  },
  {
   "cell_type": "code",
   "execution_count": 1,
   "id": "d730a7f4",
   "metadata": {},
   "outputs": [],
   "source": [
    "# Helpers\n",
    "import helpers\n",
    "import wrangle as wr\n",
    "import viz\n",
    "\n",
    "\n",
    "#imports\n",
    "import pandas as pd\n",
    "import numpy as np\n",
    "import matplotlib.pyplot as plt\n",
    "import seaborn as sns\n",
    "from sklearn.model_selection import train_test_split\n",
    "from scipy import stats\n",
    "from sklearn.cluster import KMeans\n",
    "\n",
    "#functions\n",
    "\n",
    "import model\n",
    "import acquire\n",
    "import wrangle as wr\n",
    "import warnings\n",
    "warnings.filterwarnings(\"ignore\")\n",
    "\n",
    "#evaluate\n",
    "from sklearn.metrics import mean_squared_error, r2_score, explained_variance_score\n",
    "from sklearn.feature_selection import f_regression \n",
    "from statsmodels.formula.api import ols\n",
    "import sklearn.preprocessing\n",
    "\n",
    "#feature engineering\n",
    "from sklearn.feature_selection import SelectKBest, f_regression\n",
    "from sklearn.feature_selection import RFE\n",
    "from sklearn.preprocessing import MinMaxScaler\n",
    "\n",
    "# modeling methods\n",
    "from sklearn.metrics import mean_squared_error\n",
    "from sklearn.linear_model import LinearRegression, LassoLars, TweedieRegressor\n",
    "from sklearn.preprocessing import PolynomialFeatures"
   ]
  },
  {
   "cell_type": "markdown",
   "id": "bdab243e",
   "metadata": {},
   "source": [
    "# Acquisition\n",
    "\n",
    "- Pull from wrangle file using function"
   ]
  },
  {
   "cell_type": "code",
   "execution_count": 18,
   "id": "e64a320f",
   "metadata": {},
   "outputs": [
    {
     "ename": "FileNotFoundError",
     "evalue": "[Errno 2] No such file or directory: 'data/winequality-white.csv'",
     "output_type": "error",
     "traceback": [
      "\u001b[0;31m---------------------------------------------------------------------------\u001b[0m",
      "\u001b[0;31mFileNotFoundError\u001b[0m                         Traceback (most recent call last)",
      "Input \u001b[0;32mIn [18]\u001b[0m, in \u001b[0;36m<cell line: 2>\u001b[0;34m()\u001b[0m\n\u001b[1;32m      1\u001b[0m \u001b[38;5;66;03m# Ask Josh why this isn't working\u001b[39;00m\n\u001b[0;32m----> 2\u001b[0m white \u001b[38;5;241m=\u001b[39m \u001b[43mwr\u001b[49m\u001b[38;5;241;43m.\u001b[39;49m\u001b[43mwrangle_data\u001b[49m\u001b[43m(\u001b[49m\u001b[38;5;124;43m\"\u001b[39;49m\u001b[38;5;124;43mwhite\u001b[39;49m\u001b[38;5;124;43m\"\u001b[39;49m\u001b[43m)\u001b[49m\n\u001b[1;32m      3\u001b[0m white\u001b[38;5;241m.\u001b[39mhead()\n",
      "File \u001b[0;32m~/codeup-data-science/jtl_wine_quality/wrangle.py:20\u001b[0m, in \u001b[0;36mwrangle_data\u001b[0;34m(dataset)\u001b[0m\n\u001b[1;32m     18\u001b[0m     df[\u001b[38;5;124m'\u001b[39m\u001b[38;5;124mtype\u001b[39m\u001b[38;5;124m'\u001b[39m] \u001b[38;5;241m=\u001b[39m \u001b[38;5;124m'\u001b[39m\u001b[38;5;124mred\u001b[39m\u001b[38;5;124m'\u001b[39m\n\u001b[1;32m     19\u001b[0m \u001b[38;5;28;01melif\u001b[39;00m dataset \u001b[38;5;241m==\u001b[39m \u001b[38;5;124m'\u001b[39m\u001b[38;5;124mwhite\u001b[39m\u001b[38;5;124m'\u001b[39m:\n\u001b[0;32m---> 20\u001b[0m     df \u001b[38;5;241m=\u001b[39m \u001b[43macquire\u001b[49m\u001b[38;5;241;43m.\u001b[39;49m\u001b[43mwhite_get_data\u001b[49m\u001b[43m(\u001b[49m\u001b[43m)\u001b[49m\n\u001b[1;32m     21\u001b[0m     df[\u001b[38;5;124m'\u001b[39m\u001b[38;5;124mtype\u001b[39m\u001b[38;5;124m'\u001b[39m] \u001b[38;5;241m=\u001b[39m \u001b[38;5;124m'\u001b[39m\u001b[38;5;124mwhite\u001b[39m\u001b[38;5;124m'\u001b[39m\n\u001b[1;32m     22\u001b[0m \u001b[38;5;28;01melif\u001b[39;00m dataset \u001b[38;5;241m==\u001b[39m \u001b[38;5;124m'\u001b[39m\u001b[38;5;124mboth\u001b[39m\u001b[38;5;124m'\u001b[39m:\n",
      "File \u001b[0;32m~/codeup-data-science/jtl_wine_quality/acquire.py:45\u001b[0m, in \u001b[0;36mwhite_get_data\u001b[0;34m()\u001b[0m\n\u001b[1;32m     43\u001b[0m \u001b[38;5;28;01mif\u001b[39;00m \u001b[38;5;129;01mnot\u001b[39;00m os\u001b[38;5;241m.\u001b[39mpath\u001b[38;5;241m.\u001b[39mexists(path):\n\u001b[1;32m     44\u001b[0m     url \u001b[38;5;241m=\u001b[39m gdrive_url(ids[\u001b[38;5;124m'\u001b[39m\u001b[38;5;124mwhite\u001b[39m\u001b[38;5;124m'\u001b[39m])\n\u001b[0;32m---> 45\u001b[0m     \u001b[43mdownload\u001b[49m\u001b[43m(\u001b[49m\u001b[43murl\u001b[49m\u001b[43m,\u001b[49m\u001b[43m \u001b[49m\u001b[43mpath\u001b[49m\u001b[43m)\u001b[49m\n\u001b[1;32m     46\u001b[0m df \u001b[38;5;241m=\u001b[39m pd\u001b[38;5;241m.\u001b[39mread_csv(path, delimiter\u001b[38;5;241m=\u001b[39m\u001b[38;5;124m'\u001b[39m\u001b[38;5;124m;\u001b[39m\u001b[38;5;124m'\u001b[39m)\n\u001b[1;32m     47\u001b[0m df \u001b[38;5;241m=\u001b[39m df\u001b[38;5;241m.\u001b[39mdrop_duplicates()\n",
      "File \u001b[0;32m~/codeup-data-science/jtl_wine_quality/acquire.py:28\u001b[0m, in \u001b[0;36mdownload\u001b[0;34m(url, path)\u001b[0m\n\u001b[1;32m     26\u001b[0m \u001b[38;5;28;01mif\u001b[39;00m response\u001b[38;5;241m.\u001b[39mstatus_code \u001b[38;5;241m!=\u001b[39m \u001b[38;5;241m200\u001b[39m:\n\u001b[1;32m     27\u001b[0m     \u001b[38;5;28;01mraise\u001b[39;00m \u001b[38;5;167;01mException\u001b[39;00m(\u001b[38;5;124mf\u001b[39m\u001b[38;5;124m'\u001b[39m\u001b[38;5;124mError: Status \u001b[39m\u001b[38;5;132;01m{\u001b[39;00mresponse\u001b[38;5;241m.\u001b[39mstatus_code\u001b[38;5;132;01m}\u001b[39;00m\u001b[38;5;124m'\u001b[39m)\n\u001b[0;32m---> 28\u001b[0m \u001b[38;5;28;01mwith\u001b[39;00m \u001b[38;5;28;43mopen\u001b[39;49m\u001b[43m(\u001b[49m\u001b[43mpath\u001b[49m\u001b[43m,\u001b[49m\u001b[43m \u001b[49m\u001b[38;5;124;43m'\u001b[39;49m\u001b[38;5;124;43mwb\u001b[39;49m\u001b[38;5;124;43m'\u001b[39;49m\u001b[43m)\u001b[49m \u001b[38;5;28;01mas\u001b[39;00m f:\n\u001b[1;32m     29\u001b[0m     f\u001b[38;5;241m.\u001b[39mwrite(response\u001b[38;5;241m.\u001b[39mcontent)\n",
      "\u001b[0;31mFileNotFoundError\u001b[0m: [Errno 2] No such file or directory: 'data/winequality-white.csv'"
     ]
    }
   ],
   "source": [
    "# Ask Josh why this isn't working\n",
    "white = wr.wrangle_data(\"white\")\n",
    "white.head()\n",
    "\n",
    "\n",
    "#white = pd.read_csv('https://query.data.world/s/ul7vg2xkws5rtyqhc4wfadfsbv67o5', sep= ';')\n",
    "#white.head()"
   ]
  },
  {
   "cell_type": "markdown",
   "id": "8a1b5eb5",
   "metadata": {},
   "source": [
    "# Preparation \n",
    "\n",
    "1. Data has zero nulls\n",
    "2. Rename columns\n",
    "3. Drop duplicates\n",
    "4. Handle outliers"
   ]
  },
  {
   "cell_type": "code",
   "execution_count": 3,
   "id": "def64394",
   "metadata": {
    "scrolled": true
   },
   "outputs": [
    {
     "data": {
      "text/plain": [
       "fixed acidity           0\n",
       "volatile acidity        0\n",
       "citric acid             0\n",
       "residual sugar          0\n",
       "chlorides               0\n",
       "free sulfur dioxide     0\n",
       "total sulfur dioxide    0\n",
       "density                 0\n",
       "pH                      0\n",
       "sulphates               0\n",
       "alcohol                 0\n",
       "quality                 0\n",
       "dtype: int64"
      ]
     },
     "execution_count": 3,
     "metadata": {},
     "output_type": "execute_result"
    }
   ],
   "source": [
    "#null check\n",
    "white.isna().sum()"
   ]
  },
  {
   "cell_type": "code",
   "execution_count": 4,
   "id": "d0972f90",
   "metadata": {},
   "outputs": [
    {
     "data": {
      "text/html": [
       "<div>\n",
       "<style scoped>\n",
       "    .dataframe tbody tr th:only-of-type {\n",
       "        vertical-align: middle;\n",
       "    }\n",
       "\n",
       "    .dataframe tbody tr th {\n",
       "        vertical-align: top;\n",
       "    }\n",
       "\n",
       "    .dataframe thead th {\n",
       "        text-align: right;\n",
       "    }\n",
       "</style>\n",
       "<table border=\"1\" class=\"dataframe\">\n",
       "  <thead>\n",
       "    <tr style=\"text-align: right;\">\n",
       "      <th></th>\n",
       "      <th>fixed_acidity</th>\n",
       "      <th>volatile_acidity</th>\n",
       "      <th>citric_acid</th>\n",
       "      <th>residual_sugar</th>\n",
       "      <th>chlorides</th>\n",
       "      <th>free_sulfur_dioxide</th>\n",
       "      <th>total_sulfur_dioxide</th>\n",
       "      <th>density</th>\n",
       "      <th>pH</th>\n",
       "      <th>sulphates</th>\n",
       "      <th>alcohol</th>\n",
       "      <th>quality</th>\n",
       "    </tr>\n",
       "  </thead>\n",
       "  <tbody>\n",
       "    <tr>\n",
       "      <th>102</th>\n",
       "      <td>6.0</td>\n",
       "      <td>0.21</td>\n",
       "      <td>0.24</td>\n",
       "      <td>12.1</td>\n",
       "      <td>0.05</td>\n",
       "      <td>55.0</td>\n",
       "      <td>164.0</td>\n",
       "      <td>0.997</td>\n",
       "      <td>3.34</td>\n",
       "      <td>0.39</td>\n",
       "      <td>9.4</td>\n",
       "      <td>5</td>\n",
       "    </tr>\n",
       "  </tbody>\n",
       "</table>\n",
       "</div>"
      ],
      "text/plain": [
       "     fixed_acidity  volatile_acidity  citric_acid  residual_sugar  chlorides  \\\n",
       "102            6.0              0.21         0.24            12.1       0.05   \n",
       "\n",
       "     free_sulfur_dioxide  total_sulfur_dioxide  density    pH  sulphates  \\\n",
       "102                 55.0                 164.0    0.997  3.34       0.39   \n",
       "\n",
       "     alcohol  quality  \n",
       "102      9.4        5  "
      ]
     },
     "execution_count": 4,
     "metadata": {},
     "output_type": "execute_result"
    }
   ],
   "source": [
    "# Get underscores in there\n",
    "white = white.rename(columns={'fixed acidity':'fixed_acidity','volatile acidity':'volatile_acidity','citric acid':'citric_acid','residual sugar':'residual_sugar',\n",
    "'free sulfur dioxide':'free_sulfur_dioxide','total sulfur dioxide':'total_sulfur_dioxide'})\n",
    "\n",
    "white.sample()"
   ]
  },
  {
   "cell_type": "code",
   "execution_count": 5,
   "id": "89f52d3e",
   "metadata": {},
   "outputs": [
    {
     "data": {
      "text/plain": [
       "(4898, 12)"
      ]
     },
     "execution_count": 5,
     "metadata": {},
     "output_type": "execute_result"
    }
   ],
   "source": [
    "white.shape\n",
    "\n",
    "#4898 observations and 12 columns to start."
   ]
  },
  {
   "cell_type": "code",
   "execution_count": 6,
   "id": "a9254350",
   "metadata": {},
   "outputs": [],
   "source": [
    "#Handle outliers\n",
    "\n",
    "white = model.drop_outliers(white, \"white\", method='manual')"
   ]
  },
  {
   "cell_type": "code",
   "execution_count": 7,
   "id": "f6790762",
   "metadata": {},
   "outputs": [
    {
     "data": {
      "text/plain": [
       "(4426, 12)"
      ]
     },
     "execution_count": 7,
     "metadata": {},
     "output_type": "execute_result"
    }
   ],
   "source": [
    "white.shape"
   ]
  },
  {
   "cell_type": "code",
   "execution_count": 8,
   "id": "e88e1eea",
   "metadata": {},
   "outputs": [],
   "source": [
    "#Drop those duplicates\n",
    "\n",
    "white = white.drop_duplicates()"
   ]
  },
  {
   "cell_type": "code",
   "execution_count": 9,
   "id": "6baab722",
   "metadata": {},
   "outputs": [
    {
     "data": {
      "text/plain": [
       "(3588, 12)"
      ]
     },
     "execution_count": 9,
     "metadata": {},
     "output_type": "execute_result"
    }
   ],
   "source": [
    "white.shape"
   ]
  },
  {
   "cell_type": "code",
   "execution_count": null,
   "id": "f0f6bb04",
   "metadata": {},
   "outputs": [],
   "source": [
    "# How do I add the columns that Tim made?"
   ]
  },
  {
   "cell_type": "code",
   "execution_count": null,
   "id": "afff9aa5",
   "metadata": {},
   "outputs": [],
   "source": []
  },
  {
   "cell_type": "markdown",
   "id": "16a7abc5",
   "metadata": {},
   "source": [
    "## Prep takeaways\n",
    "\n",
    "- Working with a rather clean dataset.\n",
    "- Ended up with 3588 observations\n",
    "- Outlier handling was the biggest time consumer within the prep stage."
   ]
  },
  {
   "cell_type": "code",
   "execution_count": null,
   "id": "09de2d3f",
   "metadata": {},
   "outputs": [],
   "source": []
  },
  {
   "cell_type": "markdown",
   "id": "8480d954",
   "metadata": {},
   "source": [
    "### Split the dataframe using split function from wrangle.py\n",
    "- separate target in prep for modeling\n",
    "- split data for exploration"
   ]
  },
  {
   "cell_type": "code",
   "execution_count": 15,
   "id": "9f5d4d6f",
   "metadata": {},
   "outputs": [],
   "source": [
    "#utilize helper function to split df, stratified on target, return train df and associated splits \n",
    "trainwhite, X_trainwhite, X_validatewhite, X_testwhite, y_trainwhite, y_validatewhite, y_testwhite = wr.split(white, 'quality')"
   ]
  },
  {
   "cell_type": "code",
   "execution_count": 17,
   "id": "941c9059",
   "metadata": {},
   "outputs": [
    {
     "data": {
      "text/html": [
       "<div>\n",
       "<style scoped>\n",
       "    .dataframe tbody tr th:only-of-type {\n",
       "        vertical-align: middle;\n",
       "    }\n",
       "\n",
       "    .dataframe tbody tr th {\n",
       "        vertical-align: top;\n",
       "    }\n",
       "\n",
       "    .dataframe thead th {\n",
       "        text-align: right;\n",
       "    }\n",
       "</style>\n",
       "<table border=\"1\" class=\"dataframe\">\n",
       "  <thead>\n",
       "    <tr style=\"text-align: right;\">\n",
       "      <th></th>\n",
       "      <th>fixed_acidity</th>\n",
       "      <th>volatile_acidity</th>\n",
       "      <th>citric_acid</th>\n",
       "      <th>residual_sugar</th>\n",
       "      <th>chlorides</th>\n",
       "      <th>free_sulfur_dioxide</th>\n",
       "      <th>total_sulfur_dioxide</th>\n",
       "      <th>density</th>\n",
       "      <th>pH</th>\n",
       "      <th>sulphates</th>\n",
       "      <th>alcohol</th>\n",
       "    </tr>\n",
       "  </thead>\n",
       "  <tbody>\n",
       "    <tr>\n",
       "      <th>450</th>\n",
       "      <td>7.2</td>\n",
       "      <td>0.60</td>\n",
       "      <td>0.20</td>\n",
       "      <td>9.9</td>\n",
       "      <td>0.070</td>\n",
       "      <td>21.0</td>\n",
       "      <td>174.0</td>\n",
       "      <td>0.99710</td>\n",
       "      <td>3.03</td>\n",
       "      <td>0.54</td>\n",
       "      <td>9.1</td>\n",
       "    </tr>\n",
       "    <tr>\n",
       "      <th>1039</th>\n",
       "      <td>7.5</td>\n",
       "      <td>0.17</td>\n",
       "      <td>0.34</td>\n",
       "      <td>1.4</td>\n",
       "      <td>0.035</td>\n",
       "      <td>13.0</td>\n",
       "      <td>102.0</td>\n",
       "      <td>0.99180</td>\n",
       "      <td>3.05</td>\n",
       "      <td>0.74</td>\n",
       "      <td>11.0</td>\n",
       "    </tr>\n",
       "    <tr>\n",
       "      <th>2004</th>\n",
       "      <td>7.4</td>\n",
       "      <td>0.26</td>\n",
       "      <td>0.31</td>\n",
       "      <td>2.4</td>\n",
       "      <td>0.043</td>\n",
       "      <td>58.0</td>\n",
       "      <td>178.0</td>\n",
       "      <td>0.99410</td>\n",
       "      <td>3.42</td>\n",
       "      <td>0.68</td>\n",
       "      <td>10.6</td>\n",
       "    </tr>\n",
       "    <tr>\n",
       "      <th>1837</th>\n",
       "      <td>7.2</td>\n",
       "      <td>0.24</td>\n",
       "      <td>0.29</td>\n",
       "      <td>2.2</td>\n",
       "      <td>0.037</td>\n",
       "      <td>37.0</td>\n",
       "      <td>102.0</td>\n",
       "      <td>0.99200</td>\n",
       "      <td>3.27</td>\n",
       "      <td>0.64</td>\n",
       "      <td>11.0</td>\n",
       "    </tr>\n",
       "    <tr>\n",
       "      <th>4344</th>\n",
       "      <td>6.7</td>\n",
       "      <td>0.27</td>\n",
       "      <td>0.69</td>\n",
       "      <td>1.2</td>\n",
       "      <td>0.176</td>\n",
       "      <td>36.0</td>\n",
       "      <td>106.0</td>\n",
       "      <td>0.99288</td>\n",
       "      <td>2.96</td>\n",
       "      <td>0.43</td>\n",
       "      <td>9.2</td>\n",
       "    </tr>\n",
       "  </tbody>\n",
       "</table>\n",
       "</div>"
      ],
      "text/plain": [
       "      fixed_acidity  volatile_acidity  citric_acid  residual_sugar  chlorides  \\\n",
       "450             7.2              0.60         0.20             9.9      0.070   \n",
       "1039            7.5              0.17         0.34             1.4      0.035   \n",
       "2004            7.4              0.26         0.31             2.4      0.043   \n",
       "1837            7.2              0.24         0.29             2.2      0.037   \n",
       "4344            6.7              0.27         0.69             1.2      0.176   \n",
       "\n",
       "      free_sulfur_dioxide  total_sulfur_dioxide  density    pH  sulphates  \\\n",
       "450                  21.0                 174.0  0.99710  3.03       0.54   \n",
       "1039                 13.0                 102.0  0.99180  3.05       0.74   \n",
       "2004                 58.0                 178.0  0.99410  3.42       0.68   \n",
       "1837                 37.0                 102.0  0.99200  3.27       0.64   \n",
       "4344                 36.0                 106.0  0.99288  2.96       0.43   \n",
       "\n",
       "      alcohol  \n",
       "450       9.1  \n",
       "1039     11.0  \n",
       "2004     10.6  \n",
       "1837     11.0  \n",
       "4344      9.2  "
      ]
     },
     "execution_count": 17,
     "metadata": {},
     "output_type": "execute_result"
    }
   ],
   "source": [
    "X_trainwhite.head()"
   ]
  },
  {
   "cell_type": "markdown",
   "id": "2f98ccfa",
   "metadata": {},
   "source": [
    "# Let's get to exploring"
   ]
  },
  {
   "cell_type": "code",
   "execution_count": null,
   "id": "5cc5392e",
   "metadata": {},
   "outputs": [],
   "source": []
  },
  {
   "cell_type": "code",
   "execution_count": null,
   "id": "9905fb66",
   "metadata": {},
   "outputs": [],
   "source": []
  },
  {
   "cell_type": "code",
   "execution_count": null,
   "id": "a081d80d",
   "metadata": {},
   "outputs": [],
   "source": []
  },
  {
   "cell_type": "code",
   "execution_count": null,
   "id": "a22256a9",
   "metadata": {},
   "outputs": [],
   "source": []
  }
 ],
 "metadata": {
  "kernelspec": {
   "display_name": "Python 3 (ipykernel)",
   "language": "python",
   "name": "python3"
  },
  "language_info": {
   "codemirror_mode": {
    "name": "ipython",
    "version": 3
   },
   "file_extension": ".py",
   "mimetype": "text/x-python",
   "name": "python",
   "nbconvert_exporter": "python",
   "pygments_lexer": "ipython3",
   "version": "3.9.12"
  }
 },
 "nbformat": 4,
 "nbformat_minor": 5
}
