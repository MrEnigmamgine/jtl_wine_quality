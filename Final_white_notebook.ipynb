{
 "cells": [
  {
   "cell_type": "markdown",
   "id": "70a23b51",
   "metadata": {},
   "source": [
    "## White Wine From the Vihno Verde Region in Portugal - Predicting the Quality Score Using Machine Learning"
   ]
  },
  {
   "cell_type": "markdown",
   "id": "a319e4f7",
   "metadata": {},
   "source": [
    "### Project Description:\n",
    "Our project examines 11 quantitative features of red/white wine data sets from the Vihno Verde region of Portugal. Using the physicochemical features/breakdown of the wine, we built a predictive machine learning model with a target variable of quality score. Our insights, discoveries, and modeling offer a distinct advantage to wine producers/stakeholders/distributors by using a wine's chemical composition and predicting its associated quality score."
   ]
  },
  {
   "cell_type": "markdown",
   "id": "0ff772f9",
   "metadata": {},
   "source": [
    "#### Project Planning/Outline:\n",
    "1. Intro\n",
    "2. Acquire\n",
    "3. Prepare/Wrangle\n",
    "4. Split\n",
    "5. Exploration Highlights\n",
    "6. Stats Tests?\n",
    "7. Scale\n",
    "8. Clusters\n",
    "9. Modeling\n",
    "10. Conclusion\n",
    "11. Next Steps"
   ]
  },
  {
   "cell_type": "markdown",
   "id": "9436f736",
   "metadata": {},
   "source": [
    "#### Target Variable aka Y_variable = 'Quality'\n",
    "\n",
    "Quality is the median score given to wine based on a 1-10 numerical scale submitted by at least three wine experts"
   ]
  },
  {
   "cell_type": "code",
   "execution_count": null,
   "id": "caa82d6a",
   "metadata": {},
   "outputs": [],
   "source": []
  },
  {
   "cell_type": "code",
   "execution_count": null,
   "id": "dde237d9",
   "metadata": {},
   "outputs": [],
   "source": []
  },
  {
   "cell_type": "code",
   "execution_count": null,
   "id": "f07ab891",
   "metadata": {},
   "outputs": [],
   "source": []
  },
  {
   "cell_type": "code",
   "execution_count": null,
   "id": "0cfc0f26",
   "metadata": {},
   "outputs": [],
   "source": []
  },
  {
   "cell_type": "code",
   "execution_count": null,
   "id": "513a61ed",
   "metadata": {},
   "outputs": [],
   "source": []
  },
  {
   "cell_type": "code",
   "execution_count": null,
   "id": "f653a363",
   "metadata": {},
   "outputs": [],
   "source": []
  },
  {
   "cell_type": "code",
   "execution_count": null,
   "id": "d4b9f281",
   "metadata": {},
   "outputs": [],
   "source": []
  },
  {
   "cell_type": "code",
   "execution_count": null,
   "id": "460a826b",
   "metadata": {},
   "outputs": [],
   "source": []
  },
  {
   "cell_type": "code",
   "execution_count": null,
   "id": "c00d2668",
   "metadata": {},
   "outputs": [],
   "source": []
  },
  {
   "cell_type": "code",
   "execution_count": null,
   "id": "873f97fd",
   "metadata": {},
   "outputs": [],
   "source": []
  },
  {
   "cell_type": "code",
   "execution_count": null,
   "id": "a3e05a4c",
   "metadata": {},
   "outputs": [],
   "source": []
  },
  {
   "cell_type": "code",
   "execution_count": null,
   "id": "cc86db17",
   "metadata": {},
   "outputs": [],
   "source": []
  }
 ],
 "metadata": {
  "kernelspec": {
   "display_name": "Python 3 (ipykernel)",
   "language": "python",
   "name": "python3"
  },
  "language_info": {
   "codemirror_mode": {
    "name": "ipython",
    "version": 3
   },
   "file_extension": ".py",
   "mimetype": "text/x-python",
   "name": "python",
   "nbconvert_exporter": "python",
   "pygments_lexer": "ipython3",
   "version": "3.9.12"
  }
 },
 "nbformat": 4,
 "nbformat_minor": 5
}
