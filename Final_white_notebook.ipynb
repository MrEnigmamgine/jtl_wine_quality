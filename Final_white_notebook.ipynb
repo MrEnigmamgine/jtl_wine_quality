{
 "cells": [
  {
   "cell_type": "markdown",
   "id": "5dc2391b",
   "metadata": {},
   "source": [
    "## White Wine From the Vihno Verde Region in Portugal - Predicting the Quality Score Using Machine Learning"
   ]
  },
  {
   "cell_type": "markdown",
   "id": "dbe8cee5",
   "metadata": {},
   "source": [
    "### Project Description:\n",
    "Our project examines 11 quantitative features of red/white wine data sets from the Vihno Verde region of Portugal. Using the physicochemical features/breakdown of the wine, we built a predictive machine learning model with a target variable of quality score. Our insights, discoveries, and modeling offer a distinct advantage to wine producers/stakeholders/distributors by using a wine's chemical composition and predicting its associated quality score."
   ]
  },
  {
   "cell_type": "markdown",
   "id": "a36e7a48",
   "metadata": {},
   "source": [
    "#### Project Planning/Outline:\n",
    "1. Intro\n",
    "2. Acquire\n",
    "3. Prepare/Wrangle\n",
    "4. Split\n",
    "5. Exploration Highlights\n",
    "6. Stats Tests?\n",
    "7. Scale\n",
    "8. Clusters\n",
    "9. Modeling\n",
    "10. Conclusion\n",
    "11. Next Steps"
   ]
  },
  {
   "cell_type": "markdown",
   "id": "6a1a58c5",
   "metadata": {},
   "source": [
    "#### Target Variable aka Y_variable = 'Quality'\n",
    "\n",
    "Quality is the median score given to wine based on a 1-10 numerical scale submitted by at least three wine experts"
   ]
  },
  {
   "cell_type": "markdown",
   "id": "ed649810",
   "metadata": {},
   "source": [
    "---\n",
    "## About the data\n",
    "Our project makes use of the [Wine Quality Data Set](https://archive.ics.uci.edu/ml/datasets/wine+quality) from the [UCI Machine Learning Repository](https://archive.ics.uci.edu/ml/index.php), which is a labeled dataset consisting of 6500 observations.  Each observation represents a red or white Vihno Verde whine from the Portugal region and includes the physicochemical composition of the wine as well as a labeled `quality` score indicating wine expert's opinion of the wine on a scale of 1 to 10.\n",
    "\n",
    "### Target variable\n",
    "**`quality`** - Quality score is the median score given to associated wine based off the rankings of three industry experts\n",
    "\n",
    "### Data Dictionary\n",
    "| **Variable Name** | **Explanation** | **Unit** | **Values** |\n",
    "| :---: | :---: | :---: | :---: |\n",
    "| Fixed Acidity |  Acids that do not evaporate readily (Tartaric Acid) | g/L | Float |\n",
    "| Volatile Acidity | Acids evaporate readily (Acetic acid) | g/L | Float |\n",
    "| Citric Acid | level of Citric acid | g/L | Float |\n",
    "| Residual Sugar | Sugar that remains after fermenation | g/L | Float |\n",
    "| Chlorides | Sodium Chloride content | g/L | Float |\n",
    "| Free Sulfur Dioxide | Levels of free, gaseous sulfur dioxide | mg/L | Float |\n",
    "| Total Sulfur Dioxide | Total Level of Sulfur Dioxide | mg/L | Float |\n",
    "| Density | Density in relation to water | g/cm^3 | Float |\n",
    "| pH| Acidity of the wine | 1-14 | Float |\n",
    "| Sulphates | Level of potassium sulfate | g/L | Float |\n",
    "| Alcohol | Alcohol by Volume per wine | ABV% | Float |\n",
    "| Quality |  The median value of at least 3 independent evualations by wine experts| 1-10 | Integer |\n",
    "\n",
    "### Data Challenges\n",
    "\n",
    "\n",
    "The dataset used was a very clean dataset. For the most part, its normally distributed, I.E. on average you get an average wine.  There were zero null values and none of the values could be identified as obviously erroneous.  \n",
    "\n",
    "However, we discovered 1,177 duplicate records which we dropped leaving us with 5320 observations remaining after cleaning, 1359 of which are red wines and 3961 of which are white wines.\n"
   ]
  },
  {
   "cell_type": "code",
   "execution_count": 1,
   "id": "8bf01cad",
   "metadata": {},
   "outputs": [],
   "source": [
    "# Helpers\n",
    "import helpers\n",
    "import wrangle as wr\n",
    "import viz\n",
    "\n",
    "\n",
    "#imports\n",
    "import pandas as pd\n",
    "import numpy as np\n",
    "import matplotlib.pyplot as plt\n",
    "import seaborn as sns\n",
    "from sklearn.model_selection import train_test_split\n",
    "from scipy import stats\n",
    "from sklearn.cluster import KMeans\n",
    "\n",
    "#functions\n",
    "\n",
    "import model\n",
    "import acquire\n",
    "import wrangle as wr\n",
    "import warnings\n",
    "warnings.filterwarnings(\"ignore\")\n",
    "\n",
    "#evaluate\n",
    "from sklearn.metrics import mean_squared_error, r2_score, explained_variance_score\n",
    "from sklearn.feature_selection import f_regression \n",
    "from statsmodels.formula.api import ols\n",
    "import sklearn.preprocessing\n",
    "\n",
    "#feature engineering\n",
    "from sklearn.feature_selection import SelectKBest, f_regression\n",
    "from sklearn.feature_selection import RFE\n",
    "from sklearn.preprocessing import MinMaxScaler\n",
    "\n",
    "# modeling methods\n",
    "from sklearn.metrics import mean_squared_error\n",
    "from sklearn.linear_model import LinearRegression, LassoLars, TweedieRegressor\n",
    "from sklearn.preprocessing import PolynomialFeatures"
   ]
  },
  {
   "cell_type": "markdown",
   "id": "215f485e",
   "metadata": {},
   "source": [
    "# Acquisition\n",
    "\n",
    "- Pull from wrangle file using function"
   ]
  },
  {
   "cell_type": "code",
   "execution_count": 2,
   "id": "872c1baf",
   "metadata": {},
   "outputs": [
    {
     "data": {
      "text/html": [
       "<div>\n",
       "<style scoped>\n",
       "    .dataframe tbody tr th:only-of-type {\n",
       "        vertical-align: middle;\n",
       "    }\n",
       "\n",
       "    .dataframe tbody tr th {\n",
       "        vertical-align: top;\n",
       "    }\n",
       "\n",
       "    .dataframe thead th {\n",
       "        text-align: right;\n",
       "    }\n",
       "</style>\n",
       "<table border=\"1\" class=\"dataframe\">\n",
       "  <thead>\n",
       "    <tr style=\"text-align: right;\">\n",
       "      <th></th>\n",
       "      <th>fixed acidity</th>\n",
       "      <th>volatile acidity</th>\n",
       "      <th>citric acid</th>\n",
       "      <th>residual sugar</th>\n",
       "      <th>chlorides</th>\n",
       "      <th>free sulfur dioxide</th>\n",
       "      <th>total sulfur dioxide</th>\n",
       "      <th>density</th>\n",
       "      <th>pH</th>\n",
       "      <th>sulphates</th>\n",
       "      <th>alcohol</th>\n",
       "      <th>quality</th>\n",
       "    </tr>\n",
       "  </thead>\n",
       "  <tbody>\n",
       "    <tr>\n",
       "      <th>0</th>\n",
       "      <td>7.0</td>\n",
       "      <td>0.27</td>\n",
       "      <td>0.36</td>\n",
       "      <td>20.7</td>\n",
       "      <td>0.045</td>\n",
       "      <td>45.0</td>\n",
       "      <td>170.0</td>\n",
       "      <td>1.0010</td>\n",
       "      <td>3.00</td>\n",
       "      <td>0.45</td>\n",
       "      <td>8.8</td>\n",
       "      <td>6</td>\n",
       "    </tr>\n",
       "    <tr>\n",
       "      <th>1</th>\n",
       "      <td>6.3</td>\n",
       "      <td>0.30</td>\n",
       "      <td>0.34</td>\n",
       "      <td>1.6</td>\n",
       "      <td>0.049</td>\n",
       "      <td>14.0</td>\n",
       "      <td>132.0</td>\n",
       "      <td>0.9940</td>\n",
       "      <td>3.30</td>\n",
       "      <td>0.49</td>\n",
       "      <td>9.5</td>\n",
       "      <td>6</td>\n",
       "    </tr>\n",
       "    <tr>\n",
       "      <th>2</th>\n",
       "      <td>8.1</td>\n",
       "      <td>0.28</td>\n",
       "      <td>0.40</td>\n",
       "      <td>6.9</td>\n",
       "      <td>0.050</td>\n",
       "      <td>30.0</td>\n",
       "      <td>97.0</td>\n",
       "      <td>0.9951</td>\n",
       "      <td>3.26</td>\n",
       "      <td>0.44</td>\n",
       "      <td>10.1</td>\n",
       "      <td>6</td>\n",
       "    </tr>\n",
       "    <tr>\n",
       "      <th>3</th>\n",
       "      <td>7.2</td>\n",
       "      <td>0.23</td>\n",
       "      <td>0.32</td>\n",
       "      <td>8.5</td>\n",
       "      <td>0.058</td>\n",
       "      <td>47.0</td>\n",
       "      <td>186.0</td>\n",
       "      <td>0.9956</td>\n",
       "      <td>3.19</td>\n",
       "      <td>0.40</td>\n",
       "      <td>9.9</td>\n",
       "      <td>6</td>\n",
       "    </tr>\n",
       "    <tr>\n",
       "      <th>4</th>\n",
       "      <td>7.2</td>\n",
       "      <td>0.23</td>\n",
       "      <td>0.32</td>\n",
       "      <td>8.5</td>\n",
       "      <td>0.058</td>\n",
       "      <td>47.0</td>\n",
       "      <td>186.0</td>\n",
       "      <td>0.9956</td>\n",
       "      <td>3.19</td>\n",
       "      <td>0.40</td>\n",
       "      <td>9.9</td>\n",
       "      <td>6</td>\n",
       "    </tr>\n",
       "  </tbody>\n",
       "</table>\n",
       "</div>"
      ],
      "text/plain": [
       "   fixed acidity  volatile acidity  citric acid  residual sugar  chlorides  \\\n",
       "0            7.0              0.27         0.36            20.7      0.045   \n",
       "1            6.3              0.30         0.34             1.6      0.049   \n",
       "2            8.1              0.28         0.40             6.9      0.050   \n",
       "3            7.2              0.23         0.32             8.5      0.058   \n",
       "4            7.2              0.23         0.32             8.5      0.058   \n",
       "\n",
       "   free sulfur dioxide  total sulfur dioxide  density    pH  sulphates  \\\n",
       "0                 45.0                 170.0   1.0010  3.00       0.45   \n",
       "1                 14.0                 132.0   0.9940  3.30       0.49   \n",
       "2                 30.0                  97.0   0.9951  3.26       0.44   \n",
       "3                 47.0                 186.0   0.9956  3.19       0.40   \n",
       "4                 47.0                 186.0   0.9956  3.19       0.40   \n",
       "\n",
       "   alcohol  quality  \n",
       "0      8.8        6  \n",
       "1      9.5        6  \n",
       "2     10.1        6  \n",
       "3      9.9        6  \n",
       "4      9.9        6  "
      ]
     },
     "execution_count": 2,
     "metadata": {},
     "output_type": "execute_result"
    }
   ],
   "source": [
    "# Ask Josh why this isn't working\n",
    "#white = wr.wrangle_data(\"white\")\n",
    "#white.head()\n",
    "\n",
    "\n",
    "white = pd.read_csv('https://query.data.world/s/ul7vg2xkws5rtyqhc4wfadfsbv67o5', sep= ';')\n",
    "white.head()"
   ]
  },
  {
   "cell_type": "markdown",
   "id": "6c1cef2f",
   "metadata": {},
   "source": [
    "# Preparation \n",
    "\n",
    "1. Data has zero nulls\n",
    "2. Rename columns\n",
    "3. Drop duplicates\n",
    "4. Handle outliers"
   ]
  },
  {
   "cell_type": "code",
   "execution_count": 3,
   "id": "aa957a81",
   "metadata": {
    "scrolled": true
   },
   "outputs": [
    {
     "data": {
      "text/plain": [
       "fixed acidity           0\n",
       "volatile acidity        0\n",
       "citric acid             0\n",
       "residual sugar          0\n",
       "chlorides               0\n",
       "free sulfur dioxide     0\n",
       "total sulfur dioxide    0\n",
       "density                 0\n",
       "pH                      0\n",
       "sulphates               0\n",
       "alcohol                 0\n",
       "quality                 0\n",
       "dtype: int64"
      ]
     },
     "execution_count": 3,
     "metadata": {},
     "output_type": "execute_result"
    }
   ],
   "source": [
    "#null check\n",
    "white.isna().sum()"
   ]
  },
  {
   "cell_type": "code",
   "execution_count": 4,
   "id": "b3476fc4",
   "metadata": {},
   "outputs": [
    {
     "data": {
      "text/html": [
       "<div>\n",
       "<style scoped>\n",
       "    .dataframe tbody tr th:only-of-type {\n",
       "        vertical-align: middle;\n",
       "    }\n",
       "\n",
       "    .dataframe tbody tr th {\n",
       "        vertical-align: top;\n",
       "    }\n",
       "\n",
       "    .dataframe thead th {\n",
       "        text-align: right;\n",
       "    }\n",
       "</style>\n",
       "<table border=\"1\" class=\"dataframe\">\n",
       "  <thead>\n",
       "    <tr style=\"text-align: right;\">\n",
       "      <th></th>\n",
       "      <th>fixed_acidity</th>\n",
       "      <th>volatile_acidity</th>\n",
       "      <th>citric_acid</th>\n",
       "      <th>residual_sugar</th>\n",
       "      <th>chlorides</th>\n",
       "      <th>free_sulfur_dioxide</th>\n",
       "      <th>total_sulfur_dioxide</th>\n",
       "      <th>density</th>\n",
       "      <th>pH</th>\n",
       "      <th>sulphates</th>\n",
       "      <th>alcohol</th>\n",
       "      <th>quality</th>\n",
       "    </tr>\n",
       "  </thead>\n",
       "  <tbody>\n",
       "    <tr>\n",
       "      <th>4178</th>\n",
       "      <td>5.8</td>\n",
       "      <td>0.19</td>\n",
       "      <td>0.33</td>\n",
       "      <td>4.2</td>\n",
       "      <td>0.038</td>\n",
       "      <td>49.0</td>\n",
       "      <td>133.0</td>\n",
       "      <td>0.99107</td>\n",
       "      <td>3.16</td>\n",
       "      <td>0.42</td>\n",
       "      <td>11.3</td>\n",
       "      <td>7</td>\n",
       "    </tr>\n",
       "  </tbody>\n",
       "</table>\n",
       "</div>"
      ],
      "text/plain": [
       "      fixed_acidity  volatile_acidity  citric_acid  residual_sugar  chlorides  \\\n",
       "4178            5.8              0.19         0.33             4.2      0.038   \n",
       "\n",
       "      free_sulfur_dioxide  total_sulfur_dioxide  density    pH  sulphates  \\\n",
       "4178                 49.0                 133.0  0.99107  3.16       0.42   \n",
       "\n",
       "      alcohol  quality  \n",
       "4178     11.3        7  "
      ]
     },
     "execution_count": 4,
     "metadata": {},
     "output_type": "execute_result"
    }
   ],
   "source": [
    "# Get underscores in there\n",
    "white = white.rename(columns={'fixed acidity':'fixed_acidity','volatile acidity':'volatile_acidity','citric acid':'citric_acid','residual sugar':'residual_sugar',\n",
    "'free sulfur dioxide':'free_sulfur_dioxide','total sulfur dioxide':'total_sulfur_dioxide'})\n",
    "\n",
    "white.sample()"
   ]
  },
  {
   "cell_type": "code",
   "execution_count": 5,
   "id": "14053689",
   "metadata": {},
   "outputs": [
    {
     "data": {
      "text/plain": [
       "(4898, 12)"
      ]
     },
     "execution_count": 5,
     "metadata": {},
     "output_type": "execute_result"
    }
   ],
   "source": [
    "white.shape\n",
    "\n",
    "#4898 observations and 12 columns to start."
   ]
  },
  {
   "cell_type": "code",
   "execution_count": 6,
   "id": "4b0960e7",
   "metadata": {},
   "outputs": [],
   "source": [
    "white = model.drop_outliers(white, \"white\", method='manual')"
   ]
  },
  {
   "cell_type": "code",
   "execution_count": 7,
   "id": "0ce224c1",
   "metadata": {},
   "outputs": [
    {
     "data": {
      "text/plain": [
       "(4426, 12)"
      ]
     },
     "execution_count": 7,
     "metadata": {},
     "output_type": "execute_result"
    }
   ],
   "source": [
    "white.shape"
   ]
  },
  {
   "cell_type": "code",
   "execution_count": null,
   "id": "7947b937",
   "metadata": {},
   "outputs": [],
   "source": []
  },
  {
   "cell_type": "code",
   "execution_count": null,
   "id": "4fb00021",
   "metadata": {},
   "outputs": [],
   "source": []
  },
  {
   "cell_type": "code",
   "execution_count": null,
   "id": "4697b22c",
   "metadata": {},
   "outputs": [],
   "source": []
  },
  {
   "cell_type": "code",
   "execution_count": null,
   "id": "4677497a",
   "metadata": {},
   "outputs": [],
   "source": []
  },
  {
   "cell_type": "code",
   "execution_count": null,
   "id": "3c1caa56",
   "metadata": {},
   "outputs": [],
   "source": []
  },
  {
   "cell_type": "code",
   "execution_count": null,
   "id": "c9e9da9f",
   "metadata": {},
   "outputs": [],
   "source": []
  },
  {
   "cell_type": "code",
   "execution_count": null,
   "id": "41ceb6e0",
   "metadata": {},
   "outputs": [],
   "source": []
  },
  {
   "cell_type": "code",
   "execution_count": null,
   "id": "3e62fc62",
   "metadata": {},
   "outputs": [],
   "source": []
  },
  {
   "cell_type": "code",
   "execution_count": null,
   "id": "3b17f378",
   "metadata": {},
   "outputs": [],
   "source": []
  },
  {
   "cell_type": "code",
   "execution_count": null,
   "id": "dc71c34d",
   "metadata": {},
   "outputs": [],
   "source": []
  },
  {
   "cell_type": "code",
   "execution_count": null,
   "id": "dde4872e",
   "metadata": {},
   "outputs": [],
   "source": []
  },
  {
   "cell_type": "code",
   "execution_count": null,
   "id": "533fc6b2",
   "metadata": {},
   "outputs": [],
   "source": []
  }
 ],
 "metadata": {
  "kernelspec": {
   "display_name": "Python 3 (ipykernel)",
   "language": "python",
   "name": "python3"
  },
  "language_info": {
   "codemirror_mode": {
    "name": "ipython",
    "version": 3
   },
   "file_extension": ".py",
   "mimetype": "text/x-python",
   "name": "python",
   "nbconvert_exporter": "python",
   "pygments_lexer": "ipython3",
   "version": "3.9.12"
  }
 },
 "nbformat": 4,
 "nbformat_minor": 5
}
