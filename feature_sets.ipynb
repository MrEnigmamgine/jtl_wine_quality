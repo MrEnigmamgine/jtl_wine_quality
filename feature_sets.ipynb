{
 "cells": [
  {
   "cell_type": "code",
   "execution_count": 1,
   "metadata": {},
   "outputs": [],
   "source": [
    "import numpy as np\n",
    "import pandas as pd\n",
    "\n",
    "# Visualization modules\n",
    "import matplotlib.pyplot as plt\n",
    "import seaborn as sns\n",
    "%matplotlib inline\n",
    "\n",
    "# Helpers\n",
    "import helpers\n",
    "import wrangle\n",
    "import model\n",
    "import viz"
   ]
  },
  {
   "cell_type": "markdown",
   "metadata": {},
   "source": [
    "## Best features"
   ]
  },
  {
   "cell_type": "code",
   "execution_count": 2,
   "metadata": {},
   "outputs": [],
   "source": [
    "target = 'quality'\n",
    "feats = [\n",
    "    'alcohol',\n",
    "    'volatile_acidity',\n",
    "    'citric_acid',\n",
    "    'residual_sugar',\n",
    "    'total_sulfur_dioxide',\n",
    "    'hydronium',\n",
    "    'density',\n",
    "    'ions',\n",
    "    ]"
   ]
  },
  {
   "cell_type": "markdown",
   "metadata": {},
   "source": [
    "---\n",
    "# Modeling code"
   ]
  },
  {
   "cell_type": "code",
   "execution_count": 3,
   "metadata": {},
   "outputs": [],
   "source": [
    "from sklearn.preprocessing import PolynomialFeatures\n",
    "\n",
    "from sklearn.linear_model import LinearRegression\n",
    "from sklearn.ensemble import RandomForestRegressor\n",
    "from sklearn.neighbors import KNeighborsRegressor\n",
    "\n",
    "from sklearn.metrics import mean_squared_error"
   ]
  },
  {
   "cell_type": "markdown",
   "metadata": {},
   "source": [
    "@TODO\n",
    "- wrangle and split\n",
    "- scale and polynomial\n",
    "- baseline mean\n",
    "- polynomial regression\n",
    "- linear regression\n",
    "- knn regression\n",
    "- random forest regressor\n"
   ]
  },
  {
   "cell_type": "code",
   "execution_count": 4,
   "metadata": {},
   "outputs": [
    {
     "data": {
      "text/plain": [
       "['alcohol',\n",
       " 'volatile_acidity',\n",
       " 'citric_acid',\n",
       " 'residual_sugar',\n",
       " 'total_sulfur_dioxide',\n",
       " 'hydronium',\n",
       " 'density',\n",
       " 'ions',\n",
       " 'quality']"
      ]
     },
     "execution_count": 4,
     "metadata": {},
     "output_type": "execute_result"
    }
   ],
   "source": [
    "feats + [target]"
   ]
  },
  {
   "cell_type": "code",
   "execution_count": 5,
   "metadata": {},
   "outputs": [],
   "source": [
    "red = wrangle.wrangle_data(\"red\")\n",
    "white = wrangle.wrangle_data(\"white\")\n",
    "red = model.drop_outliers(red, \"red\", method='manual')\n",
    "white = model.drop_outliers(white, \"white\", method='manual')\n",
    "red = model.add_features(red)\n",
    "white = model.add_features(white)\n",
    "red = red[feats + [target]]\n",
    "white = white[feats + [target]]\n",
    "red_train, red_validate, red_test = wrangle.train_test_validate_split(red)\n",
    "white_train, white_validate, white_test = wrangle.train_test_validate_split(white)\n"
   ]
  },
  {
   "cell_type": "code",
   "execution_count": 6,
   "metadata": {},
   "outputs": [],
   "source": [
    "r_xt = red_train[feats]\n",
    "r_xv = red_validate[feats]\n",
    "r_xs = red_test[feats]\n",
    "r_yt = red_train[target]\n",
    "r_yv = red_validate[target]\n",
    "r_ys = red_test[target]"
   ]
  },
  {
   "cell_type": "code",
   "execution_count": 7,
   "metadata": {},
   "outputs": [],
   "source": [
    "red_scaler = helpers.prep.train_scaler(r_xt)\n",
    "r_xt = red_scaler.transform(r_xt)\n",
    "r_xv = red_scaler.transform(r_xv)\n",
    "r_xs = red_scaler.transform(r_xs)"
   ]
  },
  {
   "cell_type": "code",
   "execution_count": 8,
   "metadata": {},
   "outputs": [],
   "source": [
    "\n",
    "red_poly = PolynomialFeatures(2)\n",
    "red_poly.fit(r_xt)\n",
    "r_xt_poly = red_poly.transform(r_xt)\n",
    "r_xv_poly = red_poly.transform(r_xv)\n",
    "r_xs_poly = red_poly.transform(r_xs)\n"
   ]
  },
  {
   "cell_type": "code",
   "execution_count": 9,
   "metadata": {},
   "outputs": [],
   "source": [
    "w_xt = white_train[feats]\n",
    "w_xv = white_validate[feats]\n",
    "w_xs = white_test[feats]\n",
    "w_yt = white_train[target]\n",
    "w_yv = white_validate[target]\n",
    "w_ys = white_test[target]"
   ]
  },
  {
   "cell_type": "code",
   "execution_count": 10,
   "metadata": {},
   "outputs": [],
   "source": [
    "white_scaler = helpers.prep.train_scaler(w_xt)\n",
    "w_xt = white_scaler.transform(w_xt)\n",
    "w_xv = white_scaler.transform(w_xv)\n",
    "w_xs = white_scaler.transform(w_xs)"
   ]
  },
  {
   "cell_type": "code",
   "execution_count": 11,
   "metadata": {},
   "outputs": [],
   "source": [
    "white_poly = PolynomialFeatures(3)\n",
    "white_poly.fit(w_xt)\n",
    "w_xt_poly = white_poly.transform(w_xt)\n",
    "w_xv_poly = white_poly.transform(w_xv)\n",
    "w_xs_poly = white_poly.transform(w_xs)"
   ]
  },
  {
   "cell_type": "code",
   "execution_count": 12,
   "metadata": {},
   "outputs": [],
   "source": [
    "red_models = {\n",
    "    'Mode Baseline': helpers.eval.BaselineModel(method='mode'),\n",
    "    'Linear Regression': LinearRegression(positive=True),\n",
    "    # 'Random Forest': RandomForestRegressor(max_depth=10),\n",
    "    'KNN Regression': KNeighborsRegressor(n_neighbors=5),\n",
    "}\n",
    "red_poly_models = {\n",
    "    'Linear Regression': LinearRegression(positive=True),\n",
    "    # 'Random Forest': RandomForestRegressor(max_depth=10),\n",
    "    'KNN Regression': KNeighborsRegressor(n_neighbors=5),\n",
    "}\n"
   ]
  },
  {
   "cell_type": "code",
   "execution_count": 13,
   "metadata": {},
   "outputs": [],
   "source": [
    "for name, model in red_models.items():\n",
    "    model.fit(r_xt, r_yt)\n",
    "for name, model in red_poly_models.items():\n",
    "    model.fit(r_xt_poly, r_yt)"
   ]
  },
  {
   "cell_type": "code",
   "execution_count": 14,
   "metadata": {},
   "outputs": [],
   "source": [
    "scores = {}\n",
    "for name, model in red_models.items():\n",
    "    tp = model.predict(r_xt)\n",
    "    vp = model.predict(r_xv)\n",
    "    scores[f'{name}'] = {\n",
    "        'type' : 'red',\n",
    "        'train_rmse' : mean_squared_error(r_yt, tp, squared=False),\n",
    "        'validate_rmse' : mean_squared_error(r_yv, vp, squared=False),\n",
    "        'tp': tp,\n",
    "        'vp': vp\n",
    "    }\n",
    "\n",
    "for name, model in red_poly_models.items():\n",
    "    tp = model.predict(r_xt_poly)\n",
    "    vp = model.predict(r_xv_poly)\n",
    "    scores[f'{name} (Polynomial)'] = {\n",
    "        'type' : 'red',\n",
    "        'train_rmse' : mean_squared_error(r_yt, tp, squared=False),\n",
    "        'validate_rmse' : mean_squared_error(r_yv, vp, squared=False),\n",
    "        'tp': tp,\n",
    "        'vp': vp\n",
    "    }"
   ]
  },
  {
   "cell_type": "code",
   "execution_count": 15,
   "metadata": {},
   "outputs": [],
   "source": [
    "scores_df = pd.DataFrame.from_dict(scores, orient='index')"
   ]
  },
  {
   "cell_type": "code",
   "execution_count": 16,
   "metadata": {},
   "outputs": [],
   "source": [
    "white_models = {\n",
    "    'Mode Baseline': helpers.eval.BaselineModel(method='mode'),\n",
    "    'Linear Regression': LinearRegression(positive=True),\n",
    "    # 'Random Forest': RandomForestRegressor(max_depth=10),\n",
    "    'KNN Regression': KNeighborsRegressor(n_neighbors=5),\n",
    "}\n",
    "white_poly_models = {\n",
    "    'Linear Regression': LinearRegression(positive=True),\n",
    "    # 'Random Forest': RandomForestRegressor(max_depth=10),\n",
    "    'KNN Regression': KNeighborsRegressor(n_neighbors=5),\n",
    "}\n",
    "for name, model in white_models.items():\n",
    "    model.fit(w_xt, w_yt)\n",
    "for name, model in white_poly_models.items():\n",
    "    model.fit(w_xt_poly, w_yt)"
   ]
  },
  {
   "cell_type": "code",
   "execution_count": 17,
   "metadata": {},
   "outputs": [],
   "source": [
    "for name, model in white_models.items():\n",
    "    tp = model.predict(w_xt)\n",
    "    vp = model.predict(w_xv)\n",
    "    scores[f'{name}'] = {\n",
    "        'type' : 'white',\n",
    "        'train_rmse' : mean_squared_error(w_yt, tp, squared=False),\n",
    "        'validate_rmse' : mean_squared_error(w_yv, vp, squared=False),\n",
    "        'tp': tp,\n",
    "        'vp': vp\n",
    "    }\n",
    "\n",
    "for name, model in white_poly_models.items():\n",
    "    tp = model.predict(w_xt_poly)\n",
    "    vp = model.predict(w_xv_poly)\n",
    "    scores[f'{name} (Polynomial)'] = {\n",
    "        'type' : 'white',\n",
    "        'train_rmse' : mean_squared_error(w_yt, tp, squared=False),\n",
    "        'validate_rmse' : mean_squared_error(w_yv, vp, squared=False),\n",
    "        'tp': tp,\n",
    "        'vp': vp\n",
    "    }"
   ]
  },
  {
   "cell_type": "code",
   "execution_count": 18,
   "metadata": {},
   "outputs": [],
   "source": [
    "temp = pd.DataFrame.from_dict(scores, orient='index')\n",
    "scores_df = pd.concat([scores_df, temp])"
   ]
  },
  {
   "cell_type": "code",
   "execution_count": 19,
   "metadata": {},
   "outputs": [
    {
     "data": {
      "text/html": [
       "<div>\n",
       "<style scoped>\n",
       "    .dataframe tbody tr th:only-of-type {\n",
       "        vertical-align: middle;\n",
       "    }\n",
       "\n",
       "    .dataframe tbody tr th {\n",
       "        vertical-align: top;\n",
       "    }\n",
       "\n",
       "    .dataframe thead th {\n",
       "        text-align: right;\n",
       "    }\n",
       "</style>\n",
       "<table border=\"1\" class=\"dataframe\">\n",
       "  <thead>\n",
       "    <tr style=\"text-align: right;\">\n",
       "      <th></th>\n",
       "      <th>type</th>\n",
       "      <th>train_rmse</th>\n",
       "      <th>validate_rmse</th>\n",
       "      <th>tp</th>\n",
       "      <th>vp</th>\n",
       "    </tr>\n",
       "  </thead>\n",
       "  <tbody>\n",
       "    <tr>\n",
       "      <th>Linear Regression</th>\n",
       "      <td>red</td>\n",
       "      <td>0.704421</td>\n",
       "      <td>0.645115</td>\n",
       "      <td>[5.2703544644544, 5.369022677571477, 5.3340935...</td>\n",
       "      <td>[5.293355617351765, 5.049093523644327, 5.11689...</td>\n",
       "    </tr>\n",
       "    <tr>\n",
       "      <th>Linear Regression (Polynomial)</th>\n",
       "      <td>red</td>\n",
       "      <td>0.700308</td>\n",
       "      <td>0.647785</td>\n",
       "      <td>[5.152842450763995, 5.352626408276908, 5.27367...</td>\n",
       "      <td>[5.306591516641859, 5.1005245233626475, 5.1577...</td>\n",
       "    </tr>\n",
       "    <tr>\n",
       "      <th>KNN Regression</th>\n",
       "      <td>red</td>\n",
       "      <td>0.582870</td>\n",
       "      <td>0.667938</td>\n",
       "      <td>[5.2, 5.2, 5.0, 5.6, 5.6, 4.6, 5.0, 5.0, 5.2, ...</td>\n",
       "      <td>[4.8, 5.6, 4.8, 6.2, 5.0, 5.2, 5.2, 5.2, 5.2, ...</td>\n",
       "    </tr>\n",
       "    <tr>\n",
       "      <th>KNN Regression (Polynomial)</th>\n",
       "      <td>red</td>\n",
       "      <td>0.577259</td>\n",
       "      <td>0.679393</td>\n",
       "      <td>[5.2, 5.2, 5.0, 5.6, 5.6, 4.8, 5.0, 5.0, 5.2, ...</td>\n",
       "      <td>[4.8, 5.6, 4.8, 6.2, 5.0, 5.2, 5.2, 5.2, 5.0, ...</td>\n",
       "    </tr>\n",
       "    <tr>\n",
       "      <th>Linear Regression (Polynomial)</th>\n",
       "      <td>white</td>\n",
       "      <td>0.794472</td>\n",
       "      <td>0.774673</td>\n",
       "      <td>[5.663149503331878, 5.533480994506018, 5.72028...</td>\n",
       "      <td>[5.638098199931875, 5.831391119965524, 6.35778...</td>\n",
       "    </tr>\n",
       "    <tr>\n",
       "      <th>Linear Regression</th>\n",
       "      <td>white</td>\n",
       "      <td>0.797802</td>\n",
       "      <td>0.777457</td>\n",
       "      <td>[5.673564144308267, 5.540563979782368, 5.74560...</td>\n",
       "      <td>[5.636789555215734, 5.867541511793935, 6.38561...</td>\n",
       "    </tr>\n",
       "    <tr>\n",
       "      <th>KNN Regression</th>\n",
       "      <td>white</td>\n",
       "      <td>0.656197</td>\n",
       "      <td>0.785524</td>\n",
       "      <td>[5.6, 5.8, 6.4, 7.0, 7.0, 6.4, 4.8, 6.2, 6.4, ...</td>\n",
       "      <td>[5.6, 6.4, 6.2, 5.2, 5.4, 5.6, 6.0, 5.0, 5.8, ...</td>\n",
       "    </tr>\n",
       "    <tr>\n",
       "      <th>KNN Regression (Polynomial)</th>\n",
       "      <td>white</td>\n",
       "      <td>0.653444</td>\n",
       "      <td>0.787931</td>\n",
       "      <td>[5.8, 5.8, 6.4, 7.0, 6.2, 6.6, 5.2, 6.2, 6.4, ...</td>\n",
       "      <td>[5.6, 6.4, 6.2, 5.2, 5.2, 5.6, 6.2, 5.4, 5.6, ...</td>\n",
       "    </tr>\n",
       "    <tr>\n",
       "      <th>Mode Baseline</th>\n",
       "      <td>red</td>\n",
       "      <td>0.921456</td>\n",
       "      <td>0.885135</td>\n",
       "      <td>[6, 6, 6, 6, 6, 6, 6, 6, 6, 6, 6, 6, 6, 6, 6, ...</td>\n",
       "      <td>[6, 6, 6, 6, 6, 6, 6, 6, 6, 6, 6, 6, 6, 6, 6, ...</td>\n",
       "    </tr>\n",
       "    <tr>\n",
       "      <th>Mode Baseline</th>\n",
       "      <td>white</td>\n",
       "      <td>0.902032</td>\n",
       "      <td>0.900325</td>\n",
       "      <td>[6, 6, 6, 6, 6, 6, 6, 6, 6, 6, 6, 6, 6, 6, 6, ...</td>\n",
       "      <td>[6, 6, 6, 6, 6, 6, 6, 6, 6, 6, 6, 6, 6, 6, 6, ...</td>\n",
       "    </tr>\n",
       "  </tbody>\n",
       "</table>\n",
       "</div>"
      ],
      "text/plain": [
       "                                 type  train_rmse  validate_rmse  \\\n",
       "Linear Regression                 red    0.704421       0.645115   \n",
       "Linear Regression (Polynomial)    red    0.700308       0.647785   \n",
       "KNN Regression                    red    0.582870       0.667938   \n",
       "KNN Regression (Polynomial)       red    0.577259       0.679393   \n",
       "Linear Regression (Polynomial)  white    0.794472       0.774673   \n",
       "Linear Regression               white    0.797802       0.777457   \n",
       "KNN Regression                  white    0.656197       0.785524   \n",
       "KNN Regression (Polynomial)     white    0.653444       0.787931   \n",
       "Mode Baseline                     red    0.921456       0.885135   \n",
       "Mode Baseline                   white    0.902032       0.900325   \n",
       "\n",
       "                                                                               tp  \\\n",
       "Linear Regression               [5.2703544644544, 5.369022677571477, 5.3340935...   \n",
       "Linear Regression (Polynomial)  [5.152842450763995, 5.352626408276908, 5.27367...   \n",
       "KNN Regression                  [5.2, 5.2, 5.0, 5.6, 5.6, 4.6, 5.0, 5.0, 5.2, ...   \n",
       "KNN Regression (Polynomial)     [5.2, 5.2, 5.0, 5.6, 5.6, 4.8, 5.0, 5.0, 5.2, ...   \n",
       "Linear Regression (Polynomial)  [5.663149503331878, 5.533480994506018, 5.72028...   \n",
       "Linear Regression               [5.673564144308267, 5.540563979782368, 5.74560...   \n",
       "KNN Regression                  [5.6, 5.8, 6.4, 7.0, 7.0, 6.4, 4.8, 6.2, 6.4, ...   \n",
       "KNN Regression (Polynomial)     [5.8, 5.8, 6.4, 7.0, 6.2, 6.6, 5.2, 6.2, 6.4, ...   \n",
       "Mode Baseline                   [6, 6, 6, 6, 6, 6, 6, 6, 6, 6, 6, 6, 6, 6, 6, ...   \n",
       "Mode Baseline                   [6, 6, 6, 6, 6, 6, 6, 6, 6, 6, 6, 6, 6, 6, 6, ...   \n",
       "\n",
       "                                                                               vp  \n",
       "Linear Regression               [5.293355617351765, 5.049093523644327, 5.11689...  \n",
       "Linear Regression (Polynomial)  [5.306591516641859, 5.1005245233626475, 5.1577...  \n",
       "KNN Regression                  [4.8, 5.6, 4.8, 6.2, 5.0, 5.2, 5.2, 5.2, 5.2, ...  \n",
       "KNN Regression (Polynomial)     [4.8, 5.6, 4.8, 6.2, 5.0, 5.2, 5.2, 5.2, 5.0, ...  \n",
       "Linear Regression (Polynomial)  [5.638098199931875, 5.831391119965524, 6.35778...  \n",
       "Linear Regression               [5.636789555215734, 5.867541511793935, 6.38561...  \n",
       "KNN Regression                  [5.6, 6.4, 6.2, 5.2, 5.4, 5.6, 6.0, 5.0, 5.8, ...  \n",
       "KNN Regression (Polynomial)     [5.6, 6.4, 6.2, 5.2, 5.2, 5.6, 6.2, 5.4, 5.6, ...  \n",
       "Mode Baseline                   [6, 6, 6, 6, 6, 6, 6, 6, 6, 6, 6, 6, 6, 6, 6, ...  \n",
       "Mode Baseline                   [6, 6, 6, 6, 6, 6, 6, 6, 6, 6, 6, 6, 6, 6, 6, ...  "
      ]
     },
     "execution_count": 19,
     "metadata": {},
     "output_type": "execute_result"
    }
   ],
   "source": [
    "scores_df.sort_values('validate_rmse', ascending=True)"
   ]
  },
  {
   "cell_type": "code",
   "execution_count": 20,
   "metadata": {},
   "outputs": [
    {
     "data": {
      "text/html": [
       "<div>\n",
       "<style scoped>\n",
       "    .dataframe tbody tr th:only-of-type {\n",
       "        vertical-align: middle;\n",
       "    }\n",
       "\n",
       "    .dataframe tbody tr th {\n",
       "        vertical-align: top;\n",
       "    }\n",
       "\n",
       "    .dataframe thead th {\n",
       "        text-align: right;\n",
       "    }\n",
       "</style>\n",
       "<table border=\"1\" class=\"dataframe\">\n",
       "  <thead>\n",
       "    <tr style=\"text-align: right;\">\n",
       "      <th></th>\n",
       "      <th>model</th>\n",
       "      <th>type</th>\n",
       "      <th>train_rmse</th>\n",
       "      <th>validate_rmse</th>\n",
       "      <th>tp</th>\n",
       "      <th>vp</th>\n",
       "    </tr>\n",
       "  </thead>\n",
       "  <tbody>\n",
       "    <tr>\n",
       "      <th>0</th>\n",
       "      <td>Mode Baseline</td>\n",
       "      <td>red</td>\n",
       "      <td>0.921456</td>\n",
       "      <td>0.885135</td>\n",
       "      <td>[6, 6, 6, 6, 6, 6, 6, 6, 6, 6, 6, 6, 6, 6, 6, ...</td>\n",
       "      <td>[6, 6, 6, 6, 6, 6, 6, 6, 6, 6, 6, 6, 6, 6, 6, ...</td>\n",
       "    </tr>\n",
       "    <tr>\n",
       "      <th>1</th>\n",
       "      <td>Linear Regression</td>\n",
       "      <td>red</td>\n",
       "      <td>0.704421</td>\n",
       "      <td>0.645115</td>\n",
       "      <td>[5.2703544644544, 5.369022677571477, 5.3340935...</td>\n",
       "      <td>[5.293355617351765, 5.049093523644327, 5.11689...</td>\n",
       "    </tr>\n",
       "    <tr>\n",
       "      <th>2</th>\n",
       "      <td>KNN Regression</td>\n",
       "      <td>red</td>\n",
       "      <td>0.582870</td>\n",
       "      <td>0.667938</td>\n",
       "      <td>[5.2, 5.2, 5.0, 5.6, 5.6, 4.6, 5.0, 5.0, 5.2, ...</td>\n",
       "      <td>[4.8, 5.6, 4.8, 6.2, 5.0, 5.2, 5.2, 5.2, 5.2, ...</td>\n",
       "    </tr>\n",
       "    <tr>\n",
       "      <th>3</th>\n",
       "      <td>Linear Regression (Polynomial)</td>\n",
       "      <td>red</td>\n",
       "      <td>0.700308</td>\n",
       "      <td>0.647785</td>\n",
       "      <td>[5.152842450763995, 5.352626408276908, 5.27367...</td>\n",
       "      <td>[5.306591516641859, 5.1005245233626475, 5.1577...</td>\n",
       "    </tr>\n",
       "    <tr>\n",
       "      <th>4</th>\n",
       "      <td>KNN Regression (Polynomial)</td>\n",
       "      <td>red</td>\n",
       "      <td>0.577259</td>\n",
       "      <td>0.679393</td>\n",
       "      <td>[5.2, 5.2, 5.0, 5.6, 5.6, 4.8, 5.0, 5.0, 5.2, ...</td>\n",
       "      <td>[4.8, 5.6, 4.8, 6.2, 5.0, 5.2, 5.2, 5.2, 5.0, ...</td>\n",
       "    </tr>\n",
       "    <tr>\n",
       "      <th>5</th>\n",
       "      <td>Mode Baseline</td>\n",
       "      <td>white</td>\n",
       "      <td>0.902032</td>\n",
       "      <td>0.900325</td>\n",
       "      <td>[6, 6, 6, 6, 6, 6, 6, 6, 6, 6, 6, 6, 6, 6, 6, ...</td>\n",
       "      <td>[6, 6, 6, 6, 6, 6, 6, 6, 6, 6, 6, 6, 6, 6, 6, ...</td>\n",
       "    </tr>\n",
       "    <tr>\n",
       "      <th>6</th>\n",
       "      <td>Linear Regression</td>\n",
       "      <td>white</td>\n",
       "      <td>0.797802</td>\n",
       "      <td>0.777457</td>\n",
       "      <td>[5.673564144308267, 5.540563979782368, 5.74560...</td>\n",
       "      <td>[5.636789555215734, 5.867541511793935, 6.38561...</td>\n",
       "    </tr>\n",
       "    <tr>\n",
       "      <th>7</th>\n",
       "      <td>KNN Regression</td>\n",
       "      <td>white</td>\n",
       "      <td>0.656197</td>\n",
       "      <td>0.785524</td>\n",
       "      <td>[5.6, 5.8, 6.4, 7.0, 7.0, 6.4, 4.8, 6.2, 6.4, ...</td>\n",
       "      <td>[5.6, 6.4, 6.2, 5.2, 5.4, 5.6, 6.0, 5.0, 5.8, ...</td>\n",
       "    </tr>\n",
       "    <tr>\n",
       "      <th>8</th>\n",
       "      <td>Linear Regression (Polynomial)</td>\n",
       "      <td>white</td>\n",
       "      <td>0.794472</td>\n",
       "      <td>0.774673</td>\n",
       "      <td>[5.663149503331878, 5.533480994506018, 5.72028...</td>\n",
       "      <td>[5.638098199931875, 5.831391119965524, 6.35778...</td>\n",
       "    </tr>\n",
       "    <tr>\n",
       "      <th>9</th>\n",
       "      <td>KNN Regression (Polynomial)</td>\n",
       "      <td>white</td>\n",
       "      <td>0.653444</td>\n",
       "      <td>0.787931</td>\n",
       "      <td>[5.8, 5.8, 6.4, 7.0, 6.2, 6.6, 5.2, 6.2, 6.4, ...</td>\n",
       "      <td>[5.6, 6.4, 6.2, 5.2, 5.2, 5.6, 6.2, 5.4, 5.6, ...</td>\n",
       "    </tr>\n",
       "  </tbody>\n",
       "</table>\n",
       "</div>"
      ],
      "text/plain": [
       "                            model   type  train_rmse  validate_rmse  \\\n",
       "0                   Mode Baseline    red    0.921456       0.885135   \n",
       "1               Linear Regression    red    0.704421       0.645115   \n",
       "2                  KNN Regression    red    0.582870       0.667938   \n",
       "3  Linear Regression (Polynomial)    red    0.700308       0.647785   \n",
       "4     KNN Regression (Polynomial)    red    0.577259       0.679393   \n",
       "5                   Mode Baseline  white    0.902032       0.900325   \n",
       "6               Linear Regression  white    0.797802       0.777457   \n",
       "7                  KNN Regression  white    0.656197       0.785524   \n",
       "8  Linear Regression (Polynomial)  white    0.794472       0.774673   \n",
       "9     KNN Regression (Polynomial)  white    0.653444       0.787931   \n",
       "\n",
       "                                                  tp  \\\n",
       "0  [6, 6, 6, 6, 6, 6, 6, 6, 6, 6, 6, 6, 6, 6, 6, ...   \n",
       "1  [5.2703544644544, 5.369022677571477, 5.3340935...   \n",
       "2  [5.2, 5.2, 5.0, 5.6, 5.6, 4.6, 5.0, 5.0, 5.2, ...   \n",
       "3  [5.152842450763995, 5.352626408276908, 5.27367...   \n",
       "4  [5.2, 5.2, 5.0, 5.6, 5.6, 4.8, 5.0, 5.0, 5.2, ...   \n",
       "5  [6, 6, 6, 6, 6, 6, 6, 6, 6, 6, 6, 6, 6, 6, 6, ...   \n",
       "6  [5.673564144308267, 5.540563979782368, 5.74560...   \n",
       "7  [5.6, 5.8, 6.4, 7.0, 7.0, 6.4, 4.8, 6.2, 6.4, ...   \n",
       "8  [5.663149503331878, 5.533480994506018, 5.72028...   \n",
       "9  [5.8, 5.8, 6.4, 7.0, 6.2, 6.6, 5.2, 6.2, 6.4, ...   \n",
       "\n",
       "                                                  vp  \n",
       "0  [6, 6, 6, 6, 6, 6, 6, 6, 6, 6, 6, 6, 6, 6, 6, ...  \n",
       "1  [5.293355617351765, 5.049093523644327, 5.11689...  \n",
       "2  [4.8, 5.6, 4.8, 6.2, 5.0, 5.2, 5.2, 5.2, 5.2, ...  \n",
       "3  [5.306591516641859, 5.1005245233626475, 5.1577...  \n",
       "4  [4.8, 5.6, 4.8, 6.2, 5.0, 5.2, 5.2, 5.2, 5.0, ...  \n",
       "5  [6, 6, 6, 6, 6, 6, 6, 6, 6, 6, 6, 6, 6, 6, 6, ...  \n",
       "6  [5.636789555215734, 5.867541511793935, 6.38561...  \n",
       "7  [5.6, 6.4, 6.2, 5.2, 5.4, 5.6, 6.0, 5.0, 5.8, ...  \n",
       "8  [5.638098199931875, 5.831391119965524, 6.35778...  \n",
       "9  [5.6, 6.4, 6.2, 5.2, 5.2, 5.6, 6.2, 5.4, 5.6, ...  "
      ]
     },
     "execution_count": 20,
     "metadata": {},
     "output_type": "execute_result"
    }
   ],
   "source": [
    "scores_df = scores_df.reset_index().rename(columns={'index': 'model'})\n",
    "scores_df"
   ]
  },
  {
   "cell_type": "code",
   "execution_count": 25,
   "metadata": {},
   "outputs": [],
   "source": [
    "wine_colors = ['#efdaa3', '#8c0f0a']\n",
    "alt_white = '#eccd13'\n",
    "wine_palette = sns.color_palette(wine_colors)\n",
    "wine_palette_r = sns.color_palette(list(reversed(wine_colors)))\n",
    "sns.set_palette(wine_palette)"
   ]
  },
  {
   "cell_type": "code",
   "execution_count": null,
   "metadata": {},
   "outputs": [],
   "source": []
  },
  {
   "cell_type": "code",
   "execution_count": 38,
   "metadata": {},
   "outputs": [
    {
     "data": {
      "image/png": "[encoded data removed]",
      "text/plain": [
       "<Figure size 504x360 with 1 Axes>"
      ]
     },
     "metadata": {
      "needs_background": "light"
     },
     "output_type": "display_data"
    }
   ],
   "source": [
    "plt.figure(figsize=[7,5])\n",
    "ax = sns.barplot(data=scores_df, y='model', x='validate_rmse', hue='type', palette=wine_palette_r)\n",
    "ax.get_legend().remove()\n",
    "plt.title('Best models')\n",
    "plt.show()"
   ]
  }
 ],
 "metadata": {
  "kernelspec": {
   "display_name": "Python 3.10.7 64-bit",
   "language": "python",
   "name": "python3"
  },
  "language_info": {
   "codemirror_mode": {
    "name": "ipython",
    "version": 3
   },
   "file_extension": ".py",
   "mimetype": "text/x-python",
   "name": "python",
   "nbconvert_exporter": "python",
   "pygments_lexer": "ipython3",
   "version": "3.10.7"
  },
  "orig_nbformat": 4,
  "vscode": {
   "interpreter": {
    "hash": "37b4e1d782780d9803a775659fc8b81e9cc61a0899d4564192c1f7cc3c556e45"
   }
  }
 },
 "nbformat": 4,
 "nbformat_minor": 2
}
